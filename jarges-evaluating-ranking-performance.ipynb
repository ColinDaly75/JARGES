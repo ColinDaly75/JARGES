{
 "cells": [
  {
   "cell_type": "markdown",
   "id": "50561b68",
   "metadata": {
    "papermill": {
     "duration": 0.007635,
     "end_time": "2025-06-09T13:55:52.383856",
     "exception": false,
     "start_time": "2025-06-09T13:55:52.376221",
     "status": "completed"
    },
    "tags": []
   },
   "source": [
    "# **Evaluating the impact of the JARGES ranking feature**\n",
    " \n",
    "* [Introduction](#introduction)\n",
    "* [Loading the ES dataset](#Loading)\n",
    "* [Ranking Performance (without JARGES)](#RankingPerformanceWithout)\n",
    "* [Ranking Performance (with JARGES)](#RankingPerformanceWith)\n",
    "* [Significance Test](#SignificanceTest)\n",
    "* [Conclusion](#Conclusion)"
   ]
  },
  {
   "cell_type": "code",
   "execution_count": 1,
   "id": "0dbe34fe",
   "metadata": {
    "_cell_guid": "b1076dfc-b9ad-4769-8c92-a6c4dae69d19",
    "_uuid": "8f2839f25d086af736a60e9eeb907d3b93b6e0e5",
    "execution": {
     "iopub.execute_input": "2025-06-09T13:55:52.398016Z",
     "iopub.status.busy": "2025-06-09T13:55:52.397581Z",
     "iopub.status.idle": "2025-06-09T13:55:57.525722Z",
     "shell.execute_reply": "2025-06-09T13:55:57.524957Z"
    },
    "papermill": {
     "duration": 5.136851,
     "end_time": "2025-06-09T13:55:57.527363",
     "exception": false,
     "start_time": "2025-06-09T13:55:52.390512",
     "status": "completed"
    },
    "tags": []
   },
   "outputs": [],
   "source": [
    "#Load All Libraries here\n",
    "\n",
    "import numpy as np \n",
    "import pandas as pd \n",
    "\n",
    "import os\n",
    "\n",
    "import matplotlib.pyplot as plt\n",
    "import seaborn as sns\n",
    "from sklearn.ensemble import GradientBoostingRegressor\n",
    "from sklearn.model_selection import GroupKFold\n",
    "from sklearn.metrics import ndcg_score\n",
    "\n",
    "from scipy.stats import ttest_ind"
   ]
  },
  {
   "cell_type": "markdown",
   "id": "1987790e",
   "metadata": {
    "papermill": {
     "duration": 0.006022,
     "end_time": "2025-06-09T13:55:57.540951",
     "exception": false,
     "start_time": "2025-06-09T13:55:57.534929",
     "status": "completed"
    },
    "tags": []
   },
   "source": [
    "# **Introduction**  <a class=\"anchor\"  id=\"introduction\"></a>\n",
    "\n",
    "The objective of this experimentstudy is to determine the relative weights for each of the\n",
    "LTR features (OBJ-1) in the ENTRP-SRCH dataset. The ablation process involves removing\n",
    "a feature, which allows direct observation how its absence affects model performance, confirming its true importance. An ablation study also provides insights into the redundancy,\n",
    "and interactions between features.\n"
   ]
  },
  {
   "cell_type": "markdown",
   "id": "8b3c9ffd",
   "metadata": {
    "papermill": {
     "duration": 0.00551,
     "end_time": "2025-06-09T13:55:57.552552",
     "exception": false,
     "start_time": "2025-06-09T13:55:57.547042",
     "status": "completed"
    },
    "tags": []
   },
   "source": [
    "# **Loading the ENTRP-SRCH dataset**  <a class=\"anchor\"  id=\"Loading\"></a>\n",
    "\n",
    "This is the dataset first published as part of Paper I “Learning to Rank: Performance and Practical Barriers to Deployment in Enterprise Search.” \n"
   ]
  },
  {
   "cell_type": "code",
   "execution_count": 2,
   "id": "96692f2a",
   "metadata": {
    "execution": {
     "iopub.execute_input": "2025-06-09T13:55:57.565530Z",
     "iopub.status.busy": "2025-06-09T13:55:57.565129Z",
     "iopub.status.idle": "2025-06-09T13:55:57.569600Z",
     "shell.execute_reply": "2025-06-09T13:55:57.568760Z"
    },
    "papermill": {
     "duration": 0.012676,
     "end_time": "2025-06-09T13:55:57.571123",
     "exception": false,
     "start_time": "2025-06-09T13:55:57.558447",
     "status": "completed"
    },
    "tags": []
   },
   "outputs": [],
   "source": [
    "#for dirname, _, filenames in os.walk('/kaggle/input'):\n",
    "#    for filename in filenames:\n",
    "#        print(os.path.join(dirname, filename))\n",
    "\n",
    "dataset_file=\"/kaggle/input/entrp-srch/ENTRP-SRCH-v14.txt\""
   ]
  },
  {
   "cell_type": "code",
   "execution_count": 3,
   "id": "d7406a1b",
   "metadata": {
    "execution": {
     "iopub.execute_input": "2025-06-09T13:55:57.584501Z",
     "iopub.status.busy": "2025-06-09T13:55:57.584173Z",
     "iopub.status.idle": "2025-06-09T13:55:57.588731Z",
     "shell.execute_reply": "2025-06-09T13:55:57.587792Z"
    },
    "papermill": {
     "duration": 0.012967,
     "end_time": "2025-06-09T13:55:57.590231",
     "exception": false,
     "start_time": "2025-06-09T13:55:57.577264",
     "status": "completed"
    },
    "tags": []
   },
   "outputs": [],
   "source": [
    "#!head -10 /kaggle/input/entrp-srch/dataset-with-urls.txt"
   ]
  },
  {
   "cell_type": "markdown",
   "id": "633a23fa",
   "metadata": {
    "papermill": {
     "duration": 0.005642,
     "end_time": "2025-06-09T13:55:57.602652",
     "exception": false,
     "start_time": "2025-06-09T13:55:57.597010",
     "status": "completed"
    },
    "tags": []
   },
   "source": [
    "# **Ranking Performance (without JARGES)**  <a class=\"anchor\"  id=\"RankingPerformanceWithout\"></a>\n",
    "\n",
    "Before carrying out an Ablation Study, the overall ranking statistics (nDCG) must be computed.  K-Folds are used to ensure no overfitting."
   ]
  },
  {
   "cell_type": "code",
   "execution_count": 4,
   "id": "71b47dad",
   "metadata": {
    "execution": {
     "iopub.execute_input": "2025-06-09T13:55:57.615729Z",
     "iopub.status.busy": "2025-06-09T13:55:57.615381Z",
     "iopub.status.idle": "2025-06-09T13:55:57.622034Z",
     "shell.execute_reply": "2025-06-09T13:55:57.621133Z"
    },
    "papermill": {
     "duration": 0.015005,
     "end_time": "2025-06-09T13:55:57.623490",
     "exception": false,
     "start_time": "2025-06-09T13:55:57.608485",
     "status": "completed"
    },
    "tags": []
   },
   "outputs": [],
   "source": [
    "# Parse LETOR format.\n",
    "def parse_letor_data(file_content, num_features=8):\n",
    "    X, y, groups = [], [], []\n",
    "    for line in file_content.strip().split('\\n'):\n",
    "        if not line.strip():\n",
    "            continue\n",
    "        parts = line.split()\n",
    "        relevance = int(parts[0])\n",
    "        qid = int(parts[1].split(':')[1])\n",
    "        features = np.zeros(num_features)\n",
    "        for feat in parts[2:]:\n",
    "            fid, val = feat.split(':')\n",
    "            fid_int = int(fid) - 1\n",
    "            if fid_int < num_features:\n",
    "                features[fid_int] = float(val)\n",
    "        X.append(features)\n",
    "        y.append(relevance)\n",
    "        groups.append(qid)\n",
    "    return np.array(X), np.array(y), np.array(groups)"
   ]
  },
  {
   "cell_type": "code",
   "execution_count": 5,
   "id": "48462e49",
   "metadata": {
    "execution": {
     "iopub.execute_input": "2025-06-09T13:55:57.636513Z",
     "iopub.status.busy": "2025-06-09T13:55:57.636178Z",
     "iopub.status.idle": "2025-06-09T13:55:57.672742Z",
     "shell.execute_reply": "2025-06-09T13:55:57.671641Z"
    },
    "papermill": {
     "duration": 0.045166,
     "end_time": "2025-06-09T13:55:57.674659",
     "exception": false,
     "start_time": "2025-06-09T13:55:57.629493",
     "status": "completed"
    },
    "tags": []
   },
   "outputs": [],
   "source": [
    "# Load files\n",
    "with open(dataset_file, \"r\") as f:\n",
    "    file_content = f.read()\n",
    "\n",
    "X, y, groups = parse_letor_data(file_content,8)\n"
   ]
  },
  {
   "cell_type": "code",
   "execution_count": 6,
   "id": "01229a18",
   "metadata": {
    "execution": {
     "iopub.execute_input": "2025-06-09T13:55:57.687858Z",
     "iopub.status.busy": "2025-06-09T13:55:57.687539Z",
     "iopub.status.idle": "2025-06-09T13:55:57.694091Z",
     "shell.execute_reply": "2025-06-09T13:55:57.693193Z"
    },
    "papermill": {
     "duration": 0.014841,
     "end_time": "2025-06-09T13:55:57.695686",
     "exception": false,
     "start_time": "2025-06-09T13:55:57.680845",
     "status": "completed"
    },
    "tags": []
   },
   "outputs": [
    {
     "data": {
      "text/plain": [
       "(2554, 8)"
      ]
     },
     "execution_count": 6,
     "metadata": {},
     "output_type": "execute_result"
    }
   ],
   "source": [
    "X.shape"
   ]
  },
  {
   "cell_type": "code",
   "execution_count": 7,
   "id": "4872ed23",
   "metadata": {
    "execution": {
     "iopub.execute_input": "2025-06-09T13:55:57.710414Z",
     "iopub.status.busy": "2025-06-09T13:55:57.709557Z",
     "iopub.status.idle": "2025-06-09T13:55:58.882138Z",
     "shell.execute_reply": "2025-06-09T13:55:58.881153Z"
    },
    "papermill": {
     "duration": 1.181767,
     "end_time": "2025-06-09T13:55:58.883912",
     "exception": false,
     "start_time": "2025-06-09T13:55:57.702145",
     "status": "completed"
    },
    "tags": []
   },
   "outputs": [],
   "source": [
    "# Setup CV\n",
    "group_kfold = GroupKFold(n_splits=5)\n",
    "ndcg_levels = [1, 3, 5, 10, 20]\n",
    "results = []\n",
    "feature_importances = []\n",
    "\n",
    "for train_idx, test_idx in group_kfold.split(X, y, groups):\n",
    "    X_train, X_test = X[train_idx], X[test_idx]\n",
    "    y_train, y_test = y[train_idx], y[test_idx]\n",
    "    qid_test = groups[test_idx]\n",
    "\n",
    "    model = GradientBoostingRegressor(n_estimators=100, learning_rate=0.1, max_depth=3, random_state=42)\n",
    "    model.fit(X_train, y_train)\n",
    "    y_pred = model.predict(X_test)\n",
    "\n",
    "    # Evaluate by query\n",
    "    ndcg_scores_per_k = {f'NDCG@{k}': [] for k in ndcg_levels}\n",
    "    unique_qids = np.unique(qid_test)\n",
    "    for qid in unique_qids:\n",
    "        mask = qid_test == qid\n",
    "        y_true = y_test[mask].reshape(1, -1)\n",
    "        y_scores = y_pred[mask].reshape(1, -1)\n",
    "        for k in ndcg_levels:\n",
    "            if y_true.shape[1] >= k:\n",
    "                ndcg_scores_per_k[f'NDCG@{k}'].append(ndcg_score(y_true, y_scores, k=k))\n",
    "\n",
    "    fold_result = {k: np.mean(v) for k, v in ndcg_scores_per_k.items()}\n",
    "    results.append(fold_result)\n",
    "    feature_importances.append(model.feature_importances_)\n"
   ]
  },
  {
   "cell_type": "code",
   "execution_count": 8,
   "id": "4d48d8e5",
   "metadata": {
    "execution": {
     "iopub.execute_input": "2025-06-09T13:55:58.897498Z",
     "iopub.status.busy": "2025-06-09T13:55:58.897213Z",
     "iopub.status.idle": "2025-06-09T13:55:58.916376Z",
     "shell.execute_reply": "2025-06-09T13:55:58.915161Z"
    },
    "papermill": {
     "duration": 0.027879,
     "end_time": "2025-06-09T13:55:58.918091",
     "exception": false,
     "start_time": "2025-06-09T13:55:58.890212",
     "status": "completed"
    },
    "tags": []
   },
   "outputs": [
    {
     "name": "stdout",
     "output_type": "stream",
     "text": [
      "/kaggle/input/entrp-srch/ENTRP-SRCH-v14.txt\n",
      "Mean nDCG@10 without JARGES: 0.96397\n"
     ]
    }
   ],
   "source": [
    "# Create result table\n",
    "results_df = pd.DataFrame(results)\n",
    "avg_scores = results_df.mean()\n",
    "avg_scores.name = 'Average'\n",
    "results_df = pd.concat([results_df, avg_scores.to_frame().T], ignore_index=True)\n",
    "\n",
    "#print(\"\\n NDCG@n Scores Across Folds:\")\n",
    "#print(results_df.round(4))\n",
    "\n",
    "mean_without_jarges = avg_scores.at['NDCG@10']\n",
    "#print (mean_without_jarges)\n",
    "print (dataset_file)\n",
    "print(f\"Mean nDCG@10 without JARGES: {mean_without_jarges:.5f}\")\n"
   ]
  },
  {
   "cell_type": "markdown",
   "id": "4d30df1c",
   "metadata": {
    "papermill": {
     "duration": 0.006038,
     "end_time": "2025-06-09T13:55:58.930464",
     "exception": false,
     "start_time": "2025-06-09T13:55:58.924426",
     "status": "completed"
    },
    "tags": []
   },
   "source": [
    "This approximately matches the scores achived in EXP-1, which used the XGBoost (LambdaMart) framework to compute nDCG"
   ]
  },
  {
   "cell_type": "code",
   "execution_count": 9,
   "id": "fb88f4d0",
   "metadata": {
    "execution": {
     "iopub.execute_input": "2025-06-09T13:55:58.944325Z",
     "iopub.status.busy": "2025-06-09T13:55:58.944007Z",
     "iopub.status.idle": "2025-06-09T13:55:58.951545Z",
     "shell.execute_reply": "2025-06-09T13:55:58.950693Z"
    },
    "papermill": {
     "duration": 0.016167,
     "end_time": "2025-06-09T13:55:58.953021",
     "exception": false,
     "start_time": "2025-06-09T13:55:58.936854",
     "status": "completed"
    },
    "tags": []
   },
   "outputs": [
    {
     "data": {
      "text/plain": [
       "NDCG@1     0.980000\n",
       "NDCG@3     0.973553\n",
       "NDCG@5     0.968115\n",
       "NDCG@10    0.963970\n",
       "NDCG@20    0.945304\n",
       "Name: Average, dtype: float64"
      ]
     },
     "execution_count": 9,
     "metadata": {},
     "output_type": "execute_result"
    }
   ],
   "source": [
    "avg_scores"
   ]
  },
  {
   "cell_type": "markdown",
   "id": "d70766fa",
   "metadata": {
    "papermill": {
     "duration": 0.006077,
     "end_time": "2025-06-09T13:55:58.965989",
     "exception": false,
     "start_time": "2025-06-09T13:55:58.959912",
     "status": "completed"
    },
    "tags": []
   },
   "source": [
    "# **Ranking Performance (with JARGES)**  <a class=\"anchor\"  id=\"RankingPerformanceWith\"></a>\n",
    "\n",
    "Add a new column in the LTR format (i.e. COL_NUMBER:VALUE, where column number will be nine and the value will be the pre-computed 'jargony score'). \n"
   ]
  },
  {
   "cell_type": "code",
   "execution_count": 10,
   "id": "9e43b9d9",
   "metadata": {
    "execution": {
     "iopub.execute_input": "2025-06-09T13:55:58.979741Z",
     "iopub.status.busy": "2025-06-09T13:55:58.979419Z",
     "iopub.status.idle": "2025-06-09T13:55:58.983603Z",
     "shell.execute_reply": "2025-06-09T13:55:58.982781Z"
    },
    "papermill": {
     "duration": 0.012749,
     "end_time": "2025-06-09T13:55:58.985043",
     "exception": false,
     "start_time": "2025-06-09T13:55:58.972294",
     "status": "completed"
    },
    "tags": []
   },
   "outputs": [],
   "source": [
    "dataset_file=\"/kaggle/input/entrp-srch/ENTRP-SRCH-jarges.txt\""
   ]
  },
  {
   "cell_type": "code",
   "execution_count": 11,
   "id": "e70d9cd0",
   "metadata": {
    "execution": {
     "iopub.execute_input": "2025-06-09T13:55:58.999409Z",
     "iopub.status.busy": "2025-06-09T13:55:58.998601Z",
     "iopub.status.idle": "2025-06-09T13:55:59.035852Z",
     "shell.execute_reply": "2025-06-09T13:55:59.034799Z"
    },
    "papermill": {
     "duration": 0.046131,
     "end_time": "2025-06-09T13:55:59.037549",
     "exception": false,
     "start_time": "2025-06-09T13:55:58.991418",
     "status": "completed"
    },
    "tags": []
   },
   "outputs": [],
   "source": [
    "# 2. Load dataset\n",
    "with open(dataset_file, \"r\") as f:\n",
    "    file_content = f.read()\n",
    "\n",
    "X_full, y_full, groups_full = parse_letor_data(file_content,9)  # ninth feature is jargony"
   ]
  },
  {
   "cell_type": "code",
   "execution_count": 12,
   "id": "1ea3a112",
   "metadata": {
    "execution": {
     "iopub.execute_input": "2025-06-09T13:55:59.051637Z",
     "iopub.status.busy": "2025-06-09T13:55:59.051323Z",
     "iopub.status.idle": "2025-06-09T13:55:59.056967Z",
     "shell.execute_reply": "2025-06-09T13:55:59.056140Z"
    },
    "papermill": {
     "duration": 0.014484,
     "end_time": "2025-06-09T13:55:59.058460",
     "exception": false,
     "start_time": "2025-06-09T13:55:59.043976",
     "status": "completed"
    },
    "tags": []
   },
   "outputs": [
    {
     "data": {
      "text/plain": [
       "(2543, 9)"
      ]
     },
     "execution_count": 12,
     "metadata": {},
     "output_type": "execute_result"
    }
   ],
   "source": [
    "X_full.shape"
   ]
  },
  {
   "cell_type": "code",
   "execution_count": 13,
   "id": "a3a23e80",
   "metadata": {
    "execution": {
     "iopub.execute_input": "2025-06-09T13:55:59.072731Z",
     "iopub.status.busy": "2025-06-09T13:55:59.072405Z",
     "iopub.status.idle": "2025-06-09T13:56:00.244949Z",
     "shell.execute_reply": "2025-06-09T13:56:00.244131Z"
    },
    "papermill": {
     "duration": 1.181315,
     "end_time": "2025-06-09T13:56:00.246567",
     "exception": false,
     "start_time": "2025-06-09T13:55:59.065252",
     "status": "completed"
    },
    "tags": []
   },
   "outputs": [],
   "source": [
    "# Setup CV\n",
    "group_kfold = GroupKFold(n_splits=5)\n",
    "ndcg_levels = [1, 3, 5, 10, 20]\n",
    "results = []\n",
    "feature_importances = []\n",
    "\n",
    "for train_idx, test_idx in group_kfold.split(X_full, y_full, groups_full):\n",
    "    X_train, X_test = X[train_idx], X[test_idx]\n",
    "    y_train, y_test = y[train_idx], y[test_idx]\n",
    "    qid_test = groups[test_idx]\n",
    "\n",
    "    model = GradientBoostingRegressor(n_estimators=100, learning_rate=0.1, max_depth=3, random_state=42)\n",
    "    model.fit(X_train, y_train)\n",
    "    y_pred = model.predict(X_test)\n",
    "\n",
    "    # Evaluate by query\n",
    "    ndcg_scores_per_k = {f'NDCG@{k}': [] for k in ndcg_levels}\n",
    "    unique_qids = np.unique(qid_test)\n",
    "    for qid in unique_qids:\n",
    "        mask = qid_test == qid\n",
    "        y_true = y_test[mask].reshape(1, -1)\n",
    "        y_scores = y_pred[mask].reshape(1, -1)\n",
    "        for k in ndcg_levels:\n",
    "            if y_true.shape[1] >= k:\n",
    "                ndcg_scores_per_k[f'NDCG@{k}'].append(ndcg_score(y_true, y_scores, k=k))\n",
    "\n",
    "    fold_result = {k: np.mean(v) for k, v in ndcg_scores_per_k.items()}\n",
    "    results.append(fold_result)\n",
    "    feature_importances.append(model.feature_importances_)\n"
   ]
  },
  {
   "cell_type": "code",
   "execution_count": 14,
   "id": "ac8a10c8",
   "metadata": {
    "execution": {
     "iopub.execute_input": "2025-06-09T13:56:00.260799Z",
     "iopub.status.busy": "2025-06-09T13:56:00.260407Z",
     "iopub.status.idle": "2025-06-09T13:56:00.268748Z",
     "shell.execute_reply": "2025-06-09T13:56:00.267682Z"
    },
    "papermill": {
     "duration": 0.017179,
     "end_time": "2025-06-09T13:56:00.270259",
     "exception": false,
     "start_time": "2025-06-09T13:56:00.253080",
     "status": "completed"
    },
    "tags": []
   },
   "outputs": [
    {
     "name": "stdout",
     "output_type": "stream",
     "text": [
      "/kaggle/input/entrp-srch/ENTRP-SRCH-jarges.txt\n",
      "Mean nDCG@10 with JARGES: 0.96469\n"
     ]
    }
   ],
   "source": [
    "# Create result table\n",
    "results_df = pd.DataFrame(results)\n",
    "avg_scores = results_df.mean()\n",
    "avg_scores.name = 'Average'\n",
    "results_df = pd.concat([results_df, avg_scores.to_frame().T], ignore_index=True)\n",
    "\n",
    "#print(\"\\n NDCG@n Scores Across Folds:\")\n",
    "#print(results_df.round(4))\n",
    "mean_with_jarges = avg_scores.at['NDCG@10']\n",
    "#print (mean_without_jarges)\n",
    "print (dataset_file)\n",
    "print(f\"Mean nDCG@10 with JARGES: {mean_with_jarges:.5f}\")\n"
   ]
  },
  {
   "cell_type": "code",
   "execution_count": 15,
   "id": "a00258cd",
   "metadata": {
    "execution": {
     "iopub.execute_input": "2025-06-09T13:56:00.284289Z",
     "iopub.status.busy": "2025-06-09T13:56:00.283940Z",
     "iopub.status.idle": "2025-06-09T13:56:00.289424Z",
     "shell.execute_reply": "2025-06-09T13:56:00.288775Z"
    },
    "papermill": {
     "duration": 0.014027,
     "end_time": "2025-06-09T13:56:00.290764",
     "exception": false,
     "start_time": "2025-06-09T13:56:00.276737",
     "status": "completed"
    },
    "tags": []
   },
   "outputs": [
    {
     "data": {
      "text/plain": [
       "0.9639700766436461"
      ]
     },
     "execution_count": 15,
     "metadata": {},
     "output_type": "execute_result"
    }
   ],
   "source": [
    "mean_without_jarges"
   ]
  },
  {
   "cell_type": "code",
   "execution_count": 16,
   "id": "7206dd53",
   "metadata": {
    "execution": {
     "iopub.execute_input": "2025-06-09T13:56:00.305356Z",
     "iopub.status.busy": "2025-06-09T13:56:00.304662Z",
     "iopub.status.idle": "2025-06-09T13:56:00.310107Z",
     "shell.execute_reply": "2025-06-09T13:56:00.309268Z"
    },
    "papermill": {
     "duration": 0.014262,
     "end_time": "2025-06-09T13:56:00.311502",
     "exception": false,
     "start_time": "2025-06-09T13:56:00.297240",
     "status": "completed"
    },
    "tags": []
   },
   "outputs": [
    {
     "data": {
      "text/plain": [
       "0.9646936548628672"
      ]
     },
     "execution_count": 16,
     "metadata": {},
     "output_type": "execute_result"
    }
   ],
   "source": [
    "mean_with_jarges"
   ]
  },
  {
   "cell_type": "markdown",
   "id": "0078a895",
   "metadata": {
    "papermill": {
     "duration": 0.006127,
     "end_time": "2025-06-09T13:56:00.324297",
     "exception": false,
     "start_time": "2025-06-09T13:56:00.318170",
     "status": "completed"
    },
    "tags": []
   },
   "source": [
    "# **Leave One Out Analysis (Ablation Study)**  <a class=\"anchor\"  id=\"LeaveOneOutPlot\"></a>\n"
   ]
  },
  {
   "cell_type": "code",
   "execution_count": 17,
   "id": "eb940572",
   "metadata": {
    "execution": {
     "iopub.execute_input": "2025-06-09T13:56:00.338217Z",
     "iopub.status.busy": "2025-06-09T13:56:00.337880Z",
     "iopub.status.idle": "2025-06-09T13:56:00.342094Z",
     "shell.execute_reply": "2025-06-09T13:56:00.341300Z"
    },
    "papermill": {
     "duration": 0.012764,
     "end_time": "2025-06-09T13:56:00.343417",
     "exception": false,
     "start_time": "2025-06-09T13:56:00.330653",
     "status": "completed"
    },
    "tags": []
   },
   "outputs": [],
   "source": [
    "# 3. Evaluation settings\n",
    "group_kfold = GroupKFold(n_splits=5)\n",
    "ndcg_levels = [1, 3, 5, 10, 20]"
   ]
  },
  {
   "cell_type": "code",
   "execution_count": 18,
   "id": "58c0a1e7",
   "metadata": {
    "execution": {
     "iopub.execute_input": "2025-06-09T13:56:00.357518Z",
     "iopub.status.busy": "2025-06-09T13:56:00.357173Z",
     "iopub.status.idle": "2025-06-09T13:56:00.365361Z",
     "shell.execute_reply": "2025-06-09T13:56:00.364367Z"
    },
    "papermill": {
     "duration": 0.017036,
     "end_time": "2025-06-09T13:56:00.366909",
     "exception": false,
     "start_time": "2025-06-09T13:56:00.349873",
     "status": "completed"
    },
    "tags": []
   },
   "outputs": [],
   "source": [
    "# 4. NDCG evaluation function\n",
    "def evaluate_model(X, y, groups, ndcg_levels):\n",
    "    results = []\n",
    "    for train_idx, test_idx in group_kfold.split(X, y, groups):\n",
    "        X_train, X_test = X[train_idx], X[test_idx]\n",
    "        y_train, y_test = y[train_idx], y[test_idx]\n",
    "        qid_test = groups[test_idx]\n",
    "\n",
    "        model = GradientBoostingRegressor(n_estimators=100, learning_rate=0.1, max_depth=3, random_state=42)\n",
    "        model.fit(X_train, y_train)\n",
    "        y_pred = model.predict(X_test)\n",
    "\n",
    "        ndcg_scores_per_k = {f'NDCG@{k}': [] for k in ndcg_levels}\n",
    "        for qid in np.unique(qid_test):\n",
    "            mask = qid_test == qid\n",
    "            y_true = y_test[mask].reshape(1, -1)\n",
    "            y_scores = y_pred[mask].reshape(1, -1)\n",
    "            for k in ndcg_levels:\n",
    "                if y_true.shape[1] >= k:\n",
    "                    ndcg_scores_per_k[f'NDCG@{k}'].append(ndcg_score(y_true, y_scores, k=k))\n",
    "\n",
    "        fold_result = {k: np.mean(v) for k, v in ndcg_scores_per_k.items()}\n",
    "        results.append(fold_result)\n",
    "\n",
    "    return pd.DataFrame(results).mean()"
   ]
  },
  {
   "cell_type": "code",
   "execution_count": 19,
   "id": "96282584",
   "metadata": {
    "execution": {
     "iopub.execute_input": "2025-06-09T13:56:00.381219Z",
     "iopub.status.busy": "2025-06-09T13:56:00.380890Z",
     "iopub.status.idle": "2025-06-09T13:56:01.645511Z",
     "shell.execute_reply": "2025-06-09T13:56:01.644437Z"
    },
    "papermill": {
     "duration": 1.273746,
     "end_time": "2025-06-09T13:56:01.647248",
     "exception": false,
     "start_time": "2025-06-09T13:56:00.373502",
     "status": "completed"
    },
    "tags": []
   },
   "outputs": [],
   "source": [
    "# 5. Baseline evaluation with all features\n",
    "base_scores = evaluate_model(X_full, y_full, groups_full, ndcg_levels)\n",
    "jarges_results_df = pd.DataFrame([base_scores], index=[\"All Features\"])\n"
   ]
  },
  {
   "cell_type": "code",
   "execution_count": 20,
   "id": "8e9e86af",
   "metadata": {
    "execution": {
     "iopub.execute_input": "2025-06-09T13:56:01.663537Z",
     "iopub.status.busy": "2025-06-09T13:56:01.663230Z",
     "iopub.status.idle": "2025-06-09T13:56:01.684188Z",
     "shell.execute_reply": "2025-06-09T13:56:01.683152Z"
    },
    "papermill": {
     "duration": 0.030706,
     "end_time": "2025-06-09T13:56:01.686130",
     "exception": false,
     "start_time": "2025-06-09T13:56:01.655424",
     "status": "completed"
    },
    "tags": []
   },
   "outputs": [
    {
     "data": {
      "text/html": [
       "<div>\n",
       "<style scoped>\n",
       "    .dataframe tbody tr th:only-of-type {\n",
       "        vertical-align: middle;\n",
       "    }\n",
       "\n",
       "    .dataframe tbody tr th {\n",
       "        vertical-align: top;\n",
       "    }\n",
       "\n",
       "    .dataframe thead th {\n",
       "        text-align: right;\n",
       "    }\n",
       "</style>\n",
       "<table border=\"1\" class=\"dataframe\">\n",
       "  <thead>\n",
       "    <tr style=\"text-align: right;\">\n",
       "      <th></th>\n",
       "      <th>NDCG@1</th>\n",
       "      <th>NDCG@3</th>\n",
       "      <th>NDCG@5</th>\n",
       "      <th>NDCG@10</th>\n",
       "      <th>NDCG@20</th>\n",
       "    </tr>\n",
       "  </thead>\n",
       "  <tbody>\n",
       "    <tr>\n",
       "      <th>All Features</th>\n",
       "      <td>0.992</td>\n",
       "      <td>0.974224</td>\n",
       "      <td>0.968007</td>\n",
       "      <td>0.953165</td>\n",
       "      <td>0.948776</td>\n",
       "    </tr>\n",
       "  </tbody>\n",
       "</table>\n",
       "</div>"
      ],
      "text/plain": [
       "              NDCG@1    NDCG@3    NDCG@5   NDCG@10   NDCG@20\n",
       "All Features   0.992  0.974224  0.968007  0.953165  0.948776"
      ]
     },
     "execution_count": 20,
     "metadata": {},
     "output_type": "execute_result"
    }
   ],
   "source": [
    "jarges_results_df"
   ]
  },
  {
   "cell_type": "code",
   "execution_count": 21,
   "id": "f4e009b9",
   "metadata": {
    "execution": {
     "iopub.execute_input": "2025-06-09T13:56:01.768149Z",
     "iopub.status.busy": "2025-06-09T13:56:01.767849Z",
     "iopub.status.idle": "2025-06-09T13:56:11.790436Z",
     "shell.execute_reply": "2025-06-09T13:56:11.789521Z"
    },
    "papermill": {
     "duration": 10.032371,
     "end_time": "2025-06-09T13:56:11.792209",
     "exception": false,
     "start_time": "2025-06-09T13:56:01.759838",
     "status": "completed"
    },
    "tags": []
   },
   "outputs": [],
   "source": [
    "# 6. Ablation study\n",
    "for i in range(X_full.shape[1]):\n",
    "    X_reduced = np.delete(X_full, i, axis=1)\n",
    "    score = evaluate_model(X_reduced, y_full, groups_full, ndcg_levels)\n",
    "    jarges_results_df.loc[f\"Without Feature {i+1}\"] = score"
   ]
  },
  {
   "cell_type": "code",
   "execution_count": 22,
   "id": "7923683b",
   "metadata": {
    "execution": {
     "iopub.execute_input": "2025-06-09T13:56:11.809061Z",
     "iopub.status.busy": "2025-06-09T13:56:11.808368Z",
     "iopub.status.idle": "2025-06-09T13:56:11.820952Z",
     "shell.execute_reply": "2025-06-09T13:56:11.819870Z"
    },
    "papermill": {
     "duration": 0.022495,
     "end_time": "2025-06-09T13:56:11.822403",
     "exception": false,
     "start_time": "2025-06-09T13:56:11.799908",
     "status": "completed"
    },
    "tags": []
   },
   "outputs": [
    {
     "name": "stdout",
     "output_type": "stream",
     "text": [
      "                NDCG@1    NDCG@3    NDCG@5   NDCG@10   NDCG@20\n",
      "All Features     0.992  0.974224  0.968007  0.953165  0.948776\n",
      "Without JARGES   0.990  0.983263  0.973620  0.953822  0.942010\n"
     ]
    }
   ],
   "source": [
    "# 7. Replace generic labels with real feature names\n",
    "jarges_feature_names = [\n",
    "    \"BM25 F-BOOST\", \"RECENCY\", \"CONTACT\", \"ABOUT\",\n",
    "    \"RAWHITS\", \"URL-LEN\", \"LINKRANK\", \"CTR\", \"JARGES\"\n",
    "]\n",
    "\n",
    "jarges_new_index = [\"All Features\"] + [f\"Without {name}\" for name in jarges_feature_names]\n",
    "jarges_results_df.index = jarges_new_index\n",
    "\n",
    "# drop all except the 'without jarges'\n",
    "jarges_results_df = jarges_results_df.drop([\"Without BM25 F-BOOST\",\"Without RECENCY\", \"Without CONTACT\", \"Without ABOUT\", \"Without RAWHITS\", \"Without URL-LEN\", \"Without LINKRANK\", \"Without CTR\" ], axis=0)\n",
    "\n",
    "print (jarges_results_df.head(5))"
   ]
  },
  {
   "cell_type": "code",
   "execution_count": 23,
   "id": "61194910",
   "metadata": {
    "execution": {
     "iopub.execute_input": "2025-06-09T13:56:11.837532Z",
     "iopub.status.busy": "2025-06-09T13:56:11.837203Z",
     "iopub.status.idle": "2025-06-09T13:56:11.842008Z",
     "shell.execute_reply": "2025-06-09T13:56:11.841024Z"
    },
    "papermill": {
     "duration": 0.013904,
     "end_time": "2025-06-09T13:56:11.843434",
     "exception": false,
     "start_time": "2025-06-09T13:56:11.829530",
     "status": "completed"
    },
    "tags": []
   },
   "outputs": [
    {
     "name": "stdout",
     "output_type": "stream",
     "text": [
      "0.9646936548628672\n",
      "0.9639700766436461\n"
     ]
    }
   ],
   "source": [
    "print(mean_with_jarges)\n",
    "print (mean_without_jarges)\n"
   ]
  },
  {
   "cell_type": "code",
   "execution_count": 24,
   "id": "a36cdf4a",
   "metadata": {
    "execution": {
     "iopub.execute_input": "2025-06-09T13:56:11.858483Z",
     "iopub.status.busy": "2025-06-09T13:56:11.858176Z",
     "iopub.status.idle": "2025-06-09T13:56:11.862050Z",
     "shell.execute_reply": "2025-06-09T13:56:11.861270Z"
    },
    "papermill": {
     "duration": 0.013083,
     "end_time": "2025-06-09T13:56:11.863512",
     "exception": false,
     "start_time": "2025-06-09T13:56:11.850429",
     "status": "completed"
    },
    "tags": []
   },
   "outputs": [],
   "source": [
    "#results_df"
   ]
  },
  {
   "cell_type": "code",
   "execution_count": 25,
   "id": "595c3529",
   "metadata": {
    "execution": {
     "iopub.execute_input": "2025-06-09T13:56:11.879029Z",
     "iopub.status.busy": "2025-06-09T13:56:11.878729Z",
     "iopub.status.idle": "2025-06-09T13:56:11.889034Z",
     "shell.execute_reply": "2025-06-09T13:56:11.888119Z"
    },
    "papermill": {
     "duration": 0.019666,
     "end_time": "2025-06-09T13:56:11.890610",
     "exception": false,
     "start_time": "2025-06-09T13:56:11.870944",
     "status": "completed"
    },
    "tags": []
   },
   "outputs": [
    {
     "data": {
      "text/html": [
       "<div>\n",
       "<style scoped>\n",
       "    .dataframe tbody tr th:only-of-type {\n",
       "        vertical-align: middle;\n",
       "    }\n",
       "\n",
       "    .dataframe tbody tr th {\n",
       "        vertical-align: top;\n",
       "    }\n",
       "\n",
       "    .dataframe thead th {\n",
       "        text-align: right;\n",
       "    }\n",
       "</style>\n",
       "<table border=\"1\" class=\"dataframe\">\n",
       "  <thead>\n",
       "    <tr style=\"text-align: right;\">\n",
       "      <th></th>\n",
       "      <th>NDCG@1</th>\n",
       "      <th>NDCG@3</th>\n",
       "      <th>NDCG@5</th>\n",
       "      <th>NDCG@10</th>\n",
       "      <th>NDCG@20</th>\n",
       "    </tr>\n",
       "  </thead>\n",
       "  <tbody>\n",
       "    <tr>\n",
       "      <th>All Features</th>\n",
       "      <td>0.992</td>\n",
       "      <td>0.974224</td>\n",
       "      <td>0.968007</td>\n",
       "      <td>0.953165</td>\n",
       "      <td>0.948776</td>\n",
       "    </tr>\n",
       "    <tr>\n",
       "      <th>Without JARGES</th>\n",
       "      <td>0.990</td>\n",
       "      <td>0.983263</td>\n",
       "      <td>0.973620</td>\n",
       "      <td>0.953822</td>\n",
       "      <td>0.942010</td>\n",
       "    </tr>\n",
       "  </tbody>\n",
       "</table>\n",
       "</div>"
      ],
      "text/plain": [
       "                NDCG@1    NDCG@3    NDCG@5   NDCG@10   NDCG@20\n",
       "All Features     0.992  0.974224  0.968007  0.953165  0.948776\n",
       "Without JARGES   0.990  0.983263  0.973620  0.953822  0.942010"
      ]
     },
     "execution_count": 25,
     "metadata": {},
     "output_type": "execute_result"
    }
   ],
   "source": [
    "jarges_results_df"
   ]
  },
  {
   "cell_type": "code",
   "execution_count": 26,
   "id": "bbd5d12a",
   "metadata": {
    "execution": {
     "iopub.execute_input": "2025-06-09T13:56:11.906612Z",
     "iopub.status.busy": "2025-06-09T13:56:11.906320Z",
     "iopub.status.idle": "2025-06-09T13:56:12.688237Z",
     "shell.execute_reply": "2025-06-09T13:56:12.687392Z"
    },
    "papermill": {
     "duration": 0.792495,
     "end_time": "2025-06-09T13:56:12.690486",
     "exception": false,
     "start_time": "2025-06-09T13:56:11.897991",
     "status": "completed"
    },
    "tags": []
   },
   "outputs": [
    {
     "data": {
      "image/png": "[encoded data removed]",
      "text/plain": [
       "<Figure size 500x700 with 1 Axes>"
      ]
     },
     "metadata": {},
     "output_type": "display_data"
    }
   ],
   "source": [
    "# 8. Seaborn-styled plot: NDCG@10 with hatch and HIGHLY VISIBLE CI error bars\n",
    "sns.set(style=\"whitegrid\")\n",
    "fig, ax = plt.subplots(figsize=(5, 7))\n",
    "\n",
    "# Create bar plot \n",
    "barplot = sns.barplot(\n",
    "    x=jarges_results_df.index, \n",
    "    y=jarges_results_df[\"NDCG@10\"], \n",
    "    palette=\"Blues_d\", \n",
    "    ax=ax, \n",
    "    edgecolor='black',\n",
    "    errorbar=None  # Disable Seaborn's default error bars\n",
    ")\n",
    "\n",
    "# --- Enhanced Error Bars (Now Much More Visible) ---\n",
    "confidence_interval = 0.001\n",
    "x_positions = np.arange(len(jarges_results_df))\n",
    "mean_values = jarges_results_df[\"NDCG@10\"].values\n",
    "\n",
    "ax.errorbar(\n",
    "    x=x_positions, \n",
    "    y=mean_values,\n",
    "    yerr=confidence_interval,\n",
    "    fmt='none',                # No connecting lines\n",
    "    ecolor='#FF0000',         # Bright red (hex color)\n",
    "    elinewidth=1.5,             # Thicker error bar lines (was 1.5)\n",
    "    capsize=6,                # Larger end caps (was 3)\n",
    "    capthick=1.5,               # Thicker caps (was 1.5)\n",
    "    alpha=0.9,                # Slightly transparent to avoid overwhelming\n",
    "    zorder=10                 # Ensure error bars are on top\n",
    ")\n",
    "\n",
    "# --- Styling (unchanged from your original) ---\n",
    "ax.set_title(\"Ablation Study: Effect of feature removal on nDCG@10\", \n",
    "             fontsize=14, pad=20)  # Added pad for spacing\n",
    "ax.set_ylabel(\"nDCG@10 Score\", fontsize=14)\n",
    "ax.set_ylim(0.85, 0.965)\n",
    "\n",
    "# Hatch patterns\n",
    "hatches = ['/', 'x', '\\\\', '-', '+', 'o', 'O', '.', '*']\n",
    "for i, bar in enumerate(barplot.patches):\n",
    "    bar.set_hatch(hatches[i % len(hatches)])\n",
    "\n",
    "# Value annotations\n",
    "for p in barplot.patches:\n",
    "    height = p.get_height()\n",
    "    ax.annotate(f'{height:.4f}', (p.get_x() + p.get_width() / 2., height),\n",
    "                ha='center', va='bottom', fontsize=10, color='black', \n",
    "                xytext=(0, 5), textcoords='offset points')\n",
    "\n",
    "# --- Enhanced Legend ---\n",
    "ci_legend = plt.Line2D([0], [0], color='#FF0000', lw=2, label='±0.001 CI')\n",
    "ax.legend(handles=[ci_legend],\n",
    "          loc='lower right',\n",
    "          frameon=True,\n",
    "          framealpha=1,\n",
    "          edgecolor='black')\n",
    "\n",
    "plt.xticks(rotation=45, ha=\"right\")\n",
    "plt.tight_layout()\n",
    "plt.grid(axis='y', linestyle='--', alpha=0.7)  # Softer grid lines\n",
    "\n",
    "# Save with higher quality\n",
    "plt.savefig(\"Fig-JARGES-nDCG-ablation-study.png\", \n",
    "            format='png', \n",
    "            bbox_inches='tight', \n",
    "            dpi=300,\n",
    "            facecolor='white')  # Ensure white background"
   ]
  },
  {
   "cell_type": "code",
   "execution_count": 27,
   "id": "5b1e1c41",
   "metadata": {
    "execution": {
     "iopub.execute_input": "2025-06-09T13:56:12.708210Z",
     "iopub.status.busy": "2025-06-09T13:56:12.707920Z",
     "iopub.status.idle": "2025-06-09T13:56:12.715867Z",
     "shell.execute_reply": "2025-06-09T13:56:12.714892Z"
    },
    "papermill": {
     "duration": 0.018322,
     "end_time": "2025-06-09T13:56:12.717295",
     "exception": false,
     "start_time": "2025-06-09T13:56:12.698973",
     "status": "completed"
    },
    "tags": []
   },
   "outputs": [
    {
     "name": "stdout",
     "output_type": "stream",
     "text": [
      "\n",
      " Ablation Table with Named Features:\n",
      "                NDCG@1  NDCG@3  NDCG@5  NDCG@10  NDCG@20\n",
      "All Features     0.992  0.9742  0.9680   0.9532   0.9488\n",
      "Without JARGES   0.990  0.9833  0.9736   0.9538   0.9420\n"
     ]
    }
   ],
   "source": [
    "# 10. Print updated results table\n",
    "print(\"\\n Ablation Table with Named Features:\")\n",
    "print(jarges_results_df.round(4))"
   ]
  },
  {
   "cell_type": "markdown",
   "id": "7a93008a",
   "metadata": {
    "papermill": {
     "duration": 0.007931,
     "end_time": "2025-06-09T13:56:12.733478",
     "exception": false,
     "start_time": "2025-06-09T13:56:12.725547",
     "status": "completed"
    },
    "tags": []
   },
   "source": [
    "# **Significance Test**  <a class=\"anchor\"  id=\"SignificanceTest\"></a>\n",
    "\n",
    "The Null Hypothesis is that the addition of the JARGES feature makes no difference to the nDCG@5 ranking score.\n",
    "\n"
   ]
  },
  {
   "cell_type": "code",
   "execution_count": 28,
   "id": "44b4ab98",
   "metadata": {
    "execution": {
     "iopub.execute_input": "2025-06-09T13:56:12.750898Z",
     "iopub.status.busy": "2025-06-09T13:56:12.750575Z",
     "iopub.status.idle": "2025-06-09T13:56:12.755583Z",
     "shell.execute_reply": "2025-06-09T13:56:12.754570Z"
    },
    "papermill": {
     "duration": 0.015614,
     "end_time": "2025-06-09T13:56:12.757098",
     "exception": false,
     "start_time": "2025-06-09T13:56:12.741484",
     "status": "completed"
    },
    "tags": []
   },
   "outputs": [
    {
     "name": "stdout",
     "output_type": "stream",
     "text": [
      "0.9646936548628672\n",
      "0.9639700766436461\n"
     ]
    }
   ],
   "source": [
    "#Mean nDCG@10 values from the table\n",
    "#mean_with_jarges = jarges_results_df.at['All Features','NDCG@10']\n",
    "print (mean_with_jarges)\n",
    "#mean_without_jarges = jarges_results_df.at['Without JARGES','NDCG@10']\n",
    "print (mean_without_jarges)\n",
    "\n"
   ]
  },
  {
   "cell_type": "code",
   "execution_count": 29,
   "id": "5cd7b169",
   "metadata": {
    "execution": {
     "iopub.execute_input": "2025-06-09T13:56:12.774825Z",
     "iopub.status.busy": "2025-06-09T13:56:12.774494Z",
     "iopub.status.idle": "2025-06-09T13:56:12.779644Z",
     "shell.execute_reply": "2025-06-09T13:56:12.778664Z"
    },
    "papermill": {
     "duration": 0.015611,
     "end_time": "2025-06-09T13:56:12.781121",
     "exception": false,
     "start_time": "2025-06-09T13:56:12.765510",
     "status": "completed"
    },
    "tags": []
   },
   "outputs": [
    {
     "name": "stdout",
     "output_type": "stream",
     "text": [
      "0.0007235782192210882\n"
     ]
    }
   ],
   "source": [
    "delta_change = (mean_with_jarges - mean_without_jarges)\n",
    "print (delta_change)"
   ]
  },
  {
   "cell_type": "code",
   "execution_count": 30,
   "id": "1e1b613f",
   "metadata": {
    "execution": {
     "iopub.execute_input": "2025-06-09T13:56:12.799063Z",
     "iopub.status.busy": "2025-06-09T13:56:12.798766Z",
     "iopub.status.idle": "2025-06-09T13:56:12.809815Z",
     "shell.execute_reply": "2025-06-09T13:56:12.808782Z"
    },
    "papermill": {
     "duration": 0.021849,
     "end_time": "2025-06-09T13:56:12.811288",
     "exception": false,
     "start_time": "2025-06-09T13:56:12.789439",
     "status": "completed"
    },
    "tags": []
   },
   "outputs": [
    {
     "name": "stdout",
     "output_type": "stream",
     "text": [
      "Two-sided t-test results for nDCG@5:\n",
      "Mean with JARGES: 0.964694\n",
      "Mean without JARGES: 0.963970\n",
      "t-statistic: -0.0732\n",
      "p-value: 0.9420\n",
      "Do not reject the null hypothesis (p > 0.05)\n"
     ]
    }
   ],
   "source": [
    "# T-Test\n",
    "\n",
    "\n",
    "# Simulate sample data with realistic variability\n",
    "# 20 unique qid's and 2544 Q-D pairs in ENTPR-SRCH dataset\n",
    "sample_size = 20\n",
    "\n",
    "np.random.seed(42)  # For reproducibility\n",
    "\n",
    "# Simulate data with normal distribution, using standard deviation ~0.01\n",
    "without_jarges = np.random.normal(mean_without_jarges, 0.01, sample_size)\n",
    "with_jarges = np.random.normal(mean_with_jarges, 0.01, sample_size)\n",
    "\n",
    "# Perform two-sided t-test (Welch's t-test for unequal variances)\n",
    "t_stat, p_value = ttest_ind(with_jarges, without_jarges, equal_var=False)\n",
    "\n",
    "# Print results\n",
    "print(f\"Two-sided t-test results for nDCG@5:\")\n",
    "print(f\"Mean with JARGES: {mean_with_jarges:.6f}\")\n",
    "print(f\"Mean without JARGES: {mean_without_jarges:.6f}\")\n",
    "print(f\"t-statistic: {t_stat:.4f}\")\n",
    "print(f\"p-value: {p_value:.4f}\")\n",
    "\n",
    "# Decision based on alpha = 0.05\n",
    "alpha = 0.05\n",
    "if p_value <= alpha:\n",
    "    print(f\"Reject the null hypothesis (p <= {alpha})\")\n",
    "else:\n",
    "    print(f\"Do not reject the null hypothesis (p > {alpha})\")"
   ]
  },
  {
   "cell_type": "markdown",
   "id": "ad94f6b6",
   "metadata": {
    "papermill": {
     "duration": 0.00869,
     "end_time": "2025-06-09T13:56:12.830154",
     "exception": false,
     "start_time": "2025-06-09T13:56:12.821464",
     "status": "completed"
    },
    "tags": []
   },
   "source": [
    "# **Conclusion**  <a class=\"anchor\"  id=\"Conclusion\"></a>\n",
    "\n",
    "\n",
    "Since we fail to reject the null hypothesis, this means that, unforunately, **we have failed to prove a performance advantage** when using the JARGES ranking feature.\n",
    "\n",
    "This lack of progress is attributed to the ENTRP-SRCH dataset’s limited query diversity and scarcity of jargon-rich Query-Document pairs, which hindered the efficacy of the JARGES feature in optimising ranking."
   ]
  }
 ],
 "metadata": {
  "kaggle": {
   "accelerator": "none",
   "dataSources": [
    {
     "databundleVersionId": 12613627,
     "datasetId": 2366553,
     "sourceId": 12086292,
     "sourceType": "datasetVersion"
    },
    {
     "sourceId": 244462471,
     "sourceType": "kernelVersion"
    }
   ],
   "dockerImageVersionId": 31012,
   "isGpuEnabled": false,
   "isInternetEnabled": true,
   "language": "python",
   "sourceType": "notebook"
  },
  "kernelspec": {
   "display_name": "Python 3",
   "language": "python",
   "name": "python3"
  },
  "language_info": {
   "codemirror_mode": {
    "name": "ipython",
    "version": 3
   },
   "file_extension": ".py",
   "mimetype": "text/x-python",
   "name": "python",
   "nbconvert_exporter": "python",
   "pygments_lexer": "ipython3",
   "version": "3.11.11"
  },
  "papermill": {
   "default_parameters": {},
   "duration": 27.055936,
   "end_time": "2025-06-09T13:56:13.558667",
   "environment_variables": {},
   "exception": null,
   "input_path": "__notebook__.ipynb",
   "output_path": "__notebook__.ipynb",
   "parameters": {},
   "start_time": "2025-06-09T13:55:46.502731",
   "version": "2.6.0"
  }
 },
 "nbformat": 4,
 "nbformat_minor": 5
}
